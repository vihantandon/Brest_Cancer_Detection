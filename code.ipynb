{
 "cells": [
  {
   "cell_type": "code",
   "execution_count": 30,
   "id": "c0e3df66",
   "metadata": {},
   "outputs": [],
   "source": [
    "import numpy as np\n",
    "import pandas as pd\n",
    "import matplotlib.pyplot as pl\n",
    "import math "
   ]
  },
  {
   "cell_type": "code",
   "execution_count": 31,
   "id": "78038329",
   "metadata": {},
   "outputs": [
    {
     "name": "stdout",
     "output_type": "stream",
     "text": [
      "(569, 31)\n",
      "(569, 30) (569,)\n"
     ]
    }
   ],
   "source": [
    "df = pd.read_csv(\"breast-cancer.csv\")\n",
    "df = df.drop(columns=[\"id\"])\n",
    "df.head()\n",
    "print(df.shape)\n",
    "x_train = df.drop(columns=['diagnosis']).values\n",
    "y_train = df['diagnosis'].map({'M':1,'B':0}).values\n",
    "print(x_train.shape, y_train.shape)"
   ]
  },
  {
   "cell_type": "code",
   "execution_count": 32,
   "id": "e15d5e4f",
   "metadata": {},
   "outputs": [],
   "source": [
    "def sigmoid(z):\n",
    "    return 1/(1+np.exp(-z))"
   ]
  },
  {
   "cell_type": "code",
   "execution_count": 42,
   "id": "1743d40c",
   "metadata": {},
   "outputs": [],
   "source": [
    "def compute_cost(x,y,w,b,lambda_):\n",
    "    m = x.shape[0]\n",
    "\n",
    "    z = np.dot(x,w) + b\n",
    "    f_wb = sigmoid(z)\n",
    "\n",
    "    # Avoid log(0)\n",
    "    epsilon = 1e-15\n",
    "    f_wb = np.clip(f_wb, epsilon, 1 - epsilon)\n",
    "\n",
    "    cost = np.sum(np.dot(-y,np.log(f_wb)) - np.dot(1-y,np.log(1-f_wb)))\n",
    "    cost = cost/m\n",
    "\n",
    "    w = np.sum(w**2)\n",
    "    reg_cost = lambda_*(w)\n",
    "    reg_cost = reg_cost/m\n",
    "\n",
    "    return cost+reg_cost\n",
    "    "
   ]
  },
  {
   "cell_type": "code",
   "execution_count": 34,
   "id": "bfdaa209",
   "metadata": {},
   "outputs": [],
   "source": [
    "def compute_gradient(x,y,w,b,lambda_):\n",
    "    m = x.shape[0]\n",
    "    dj_dw = np.zeros(w.shape)\n",
    "    dj_db = 0.\n",
    "\n",
    "    z = np.dot(x,w) + b\n",
    "    f_wb = sigmoid(z)\n",
    "\n",
    "    exe = f_wb-y\n",
    "    dj_dw = np.dot(x.T,exe)\n",
    "    dj_db = np.sum(exe)\n",
    "\n",
    "    reg = (lambda_/m)*w\n",
    "    dj_dw += reg\n",
    "    return dj_dw/m,dj_db/m"
   ]
  },
  {
   "cell_type": "code",
   "execution_count": 35,
   "id": "130d6d57",
   "metadata": {},
   "outputs": [],
   "source": [
    "def gradient_descent(x,y,w,b,alpha,iter,lambda_,compute_cost,compute_gradient):\n",
    "    m = x.shape[0]\n",
    "    J_hist = []\n",
    "    for i in range(iter):\n",
    "        \n",
    "        dj_dw,dj_db = compute_gradient(x,y,w,b,lambda_)\n",
    "        w = w-alpha*dj_dw\n",
    "        b = b-alpha*dj_db\n",
    "\n",
    "        if i%10 == 0 or i == iter-1:\n",
    "            cost = compute_cost(x,y,w,b,lambda_)\n",
    "            J_hist.append(cost)\n",
    "\n",
    "    return w,b,J_hist"
   ]
  },
  {
   "cell_type": "code",
   "execution_count": null,
   "id": "76c60a61",
   "metadata": {},
   "outputs": [],
   "source": [
    "x_mean = np.mean(x_train,axis = 0)\n",
    "x_std = np.std(x_train,axis = 0)\n",
    "x_norm = (x_train - x_mean)/x_std\n",
    "\n",
    "w = np.zeros(x_train.shape[1])\n",
    "b=0\n",
    "alpha = 0.01\n",
    "iter = 1000\n",
    "lambda_ = 2\n",
    "\n",
    "w_final,b_final,J_hist = gradient_descent(x_norm,y_train,w,b,alpha,iter,lambda_,compute_cost,compute_gradient)\n",
    "\n"
   ]
  }
 ],
 "metadata": {
  "kernelspec": {
   "display_name": "Python 3",
   "language": "python",
   "name": "python3"
  },
  "language_info": {
   "codemirror_mode": {
    "name": "ipython",
    "version": 3
   },
   "file_extension": ".py",
   "mimetype": "text/x-python",
   "name": "python",
   "nbconvert_exporter": "python",
   "pygments_lexer": "ipython3",
   "version": "3.12.3"
  }
 },
 "nbformat": 4,
 "nbformat_minor": 5
}
